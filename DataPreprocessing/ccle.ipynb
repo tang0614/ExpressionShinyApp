{
 "cells": [
  {
   "cell_type": "code",
   "execution_count": 1,
   "metadata": {},
   "outputs": [],
   "source": [
    "import pandas as pd\n",
    "import tqdm\n",
    "import os\n",
    "import re\n",
    "import json "
   ]
  },
  {
   "cell_type": "code",
   "execution_count": 2,
   "metadata": {},
   "outputs": [],
   "source": [
    "CCLE_RNAseq_genes_tpm = pd.read_csv('/Users/xinyutang/Documents/HPA2/Data/CCLE/CCLE_RNAseq_genes_tpm.csv')"
   ]
  },
  {
   "cell_type": "code",
   "execution_count": 3,
   "metadata": {},
   "outputs": [],
   "source": [
    "gtex_autophogy_geneid=pd.read_csv('/Users/xinyutang/Documents/HPA2/Data/gtex_autophogy_geneid.csv')"
   ]
  },
  {
   "cell_type": "code",
   "execution_count": 4,
   "metadata": {},
   "outputs": [],
   "source": [
    "rna_cellline=pd.read_csv('/Users/xinyutang/Documents/HPA2/Data/rna_celline.tsv', sep='\\t')"
   ]
  },
  {
   "cell_type": "code",
   "execution_count": 5,
   "metadata": {},
   "outputs": [],
   "source": [
    "Cell_lines_annotations=pd.read_csv('/Users/xinyutang/Documents/HPA2/Data/CCLE/Cell_lines_annotations.csv')"
   ]
  },
  {
   "cell_type": "markdown",
   "metadata": {},
   "source": [
    "## TPM"
   ]
  },
  {
   "cell_type": "code",
   "execution_count": 6,
   "metadata": {
    "scrolled": true
   },
   "outputs": [
    {
     "data": {
      "text/plain": [
       "(57820, 1021)"
      ]
     },
     "execution_count": 6,
     "metadata": {},
     "output_type": "execute_result"
    }
   ],
   "source": [
    "CCLE_RNAseq_genes_tpm.shape"
   ]
  },
  {
   "cell_type": "code",
   "execution_count": 116,
   "metadata": {},
   "outputs": [],
   "source": [
    "#add new genes\n",
    "rna_tissue_gtex = pd.read_csv('/Users/xinyutang/Documents/HPA2/Data/rna_tissue_gtex.tsv')\n",
    "\n",
    "genes_id=rna_tissue_gtex.drop_duplicates('GeneName',keep='first')[['Gene','GeneName']]\n",
    "new_id = genes_id[genes_id.GeneName. isin (['SQSTM1','CALCOCO2','NBR1','OPTN','TAX1BP1','NCOA4'])]"
   ]
  },
  {
   "cell_type": "code",
   "execution_count": 23,
   "metadata": {},
   "outputs": [],
   "source": [
    "gtex_autophogy_geneid = pd.concat([new_id,gtex_autophogy_geneid],axis=0)\n",
    "gtex_autophogy_geneid.to_csv('/Users/xinyutang/Documents/HPA2/Data/gtex_autophogy_geneid.csv')"
   ]
  },
  {
   "cell_type": "code",
   "execution_count": 24,
   "metadata": {},
   "outputs": [],
   "source": [
    "# match geneid with autophagy id\n",
    "CCLE_RNAseq_genes_tpm['gene_id']=CCLE_RNAseq_genes_tpm['gene_id'].apply(lambda x: x.split('.')[0])\n",
    "ccle_autophogy = pd.merge(CCLE_RNAseq_genes_tpm,gtex_autophogy_geneid, left_on='gene_id', right_on='Gene')"
   ]
  },
  {
   "cell_type": "code",
   "execution_count": 25,
   "metadata": {},
   "outputs": [],
   "source": [
    "#match cell line with columns\n",
    "del ccle_autophogy['Gene']\n",
    "del ccle_autophogy['transcript_ids']\n",
    "\n",
    "ccle_autophogy_cell_line_id = ccle_autophogy.columns.tolist()[2:-3]\n",
    "ccle_autophogy = pd.melt(ccle_autophogy,id_vars =['gene_id','GeneName'], \n",
    "                         value_vars =ccle_autophogy_cell_line_id,\n",
    "                         var_name ='Cell_line', value_name ='TPM')\n"
   ]
  },
  {
   "cell_type": "code",
   "execution_count": 26,
   "metadata": {},
   "outputs": [],
   "source": [
    "Cell_lines_annotations = Cell_lines_annotations[['CCLE_ID','Name','Site_Primary']]\n",
    "Cell_lines_annotations['Lineage']=Cell_lines_annotations['CCLE_ID'].apply(lambda x: x.split('_')[1])\n",
    "Cell_lines_annotations = Cell_lines_annotations.drop_duplicates('CCLE_ID',keep='first')"
   ]
  },
  {
   "cell_type": "code",
   "execution_count": 27,
   "metadata": {},
   "outputs": [],
   "source": [
    "cell_line_dic = dict(zip(Cell_lines_annotations.CCLE_ID, Cell_lines_annotations.Name))\n",
    "cell_line_dic2 = dict(zip(Cell_lines_annotations.CCLE_ID, Cell_lines_annotations.Lineage))"
   ]
  },
  {
   "cell_type": "code",
   "execution_count": 28,
   "metadata": {},
   "outputs": [],
   "source": [
    "ccle_autophogy[\"Name\"] = ccle_autophogy[\"Cell_line\"].map(cell_line_dic)\n",
    "ccle_autophogy[\"Site_Primary\"] = ccle_autophogy[\"Cell_line\"].map(cell_line_dic2)"
   ]
  },
  {
   "cell_type": "code",
   "execution_count": 37,
   "metadata": {},
   "outputs": [],
   "source": [
    "ccle_autophogy=ccle_autophogy.rename({'CALCOCO2 (NDP52)':'CALCOCO2(NDP52)'},axis=1)\n"
   ]
  },
  {
   "cell_type": "code",
   "execution_count": 38,
   "metadata": {},
   "outputs": [
    {
     "name": "stdout",
     "output_type": "stream",
     "text": [
      "ATG10\n",
      "ATG101\n",
      "ATG12\n",
      "ATG13\n",
      "ATG14\n",
      "ATG16L1\n",
      "ATG2A\n",
      "ATG2B\n",
      "ATG3\n",
      "ATG4A\n",
      "ATG4B\n",
      "ATG4C\n",
      "ATG4D\n",
      "ATG5\n",
      "ATG7\n",
      "ATG9A\n",
      "ATG9B\n",
      "B1CC1(FIP200)\n",
      "BECN1\n",
      "BECN2\n",
      "CALCOCO2 (NDP52)\n",
      "GABARAP\n",
      "GABARAPL1\n",
      "GABARAPL2\n",
      "MAP1LC3A\n",
      "MAP1LC3B\n",
      "MAP1LC3B2\n",
      "MAP1LC3C\n",
      "MCOLN1(TRPML1)\n",
      "MCOLN1(TRPML3)\n",
      "MCOLN2(TRPML2)\n",
      "NBR1\n",
      "OPTN\n",
      "PIK3C3\n",
      "PIK3CB\n",
      "PIK3R4\n",
      "RUBCN\n",
      "SQSTM1(p62)\n",
      "TAX1BP1\n",
      "TFEB\n",
      "ULK1\n",
      "ULK2\n",
      "ULK3\n",
      "WDFY3\n",
      "WIPI1\n",
      "WIPI2\n"
     ]
    }
   ],
   "source": [
    "for i, j in ccle_autophogy.groupby('GeneName'):\n",
    "    print(i)"
   ]
  },
  {
   "cell_type": "code",
   "execution_count": 39,
   "metadata": {},
   "outputs": [],
   "source": [
    "gtex_autophogy_geneid.to_csv('/Users/xinyutang/Documents/HPA2/Data/gtex_autophogy_geneid.csv')"
   ]
  },
  {
   "cell_type": "code",
   "execution_count": 52,
   "metadata": {},
   "outputs": [],
   "source": [
    "ccle_autophogy['cellline']=ccle_autophogy['Cell_line'].apply(lambda x:x.split('_')[0])\n",
    "ccle_autophogy.to_csv('/Users/xinyutang/Documents/HPA2/Data/CCLE/ccle_autophogy_tpm.csv')"
   ]
  },
  {
   "cell_type": "markdown",
   "metadata": {},
   "source": [
    "## HPA cell-line"
   ]
  },
  {
   "cell_type": "code",
   "execution_count": 408,
   "metadata": {},
   "outputs": [],
   "source": [
    "cellline_hpa = pd.read_csv('/Users/xinyutang/Documents/HPA2/Data/CCLE/rna_celline.tsv',sep='\\t')"
   ]
  },
  {
   "cell_type": "code",
   "execution_count": 410,
   "metadata": {},
   "outputs": [],
   "source": [
    "cellline_hpa = cellline_hpa[['Gene','Gene name','Cell line','TPM']]"
   ]
  },
  {
   "cell_type": "code",
   "execution_count": 384,
   "metadata": {},
   "outputs": [],
   "source": [
    "autophagyV8Url = np.load('/Users/xinyutang/Documents/HPA2/crawler/autophagyV8Url.npy')"
   ]
  },
  {
   "cell_type": "code",
   "execution_count": 122,
   "metadata": {},
   "outputs": [],
   "source": [
    "new_html=[]\n",
    "for html in autophagyV8Url:\n",
    "    b = html.replace(\"v18\", \"v19\")\n",
    "    c =b.split('/')[:-1]\n",
    "    d = \"/\".join(c).replace('tissue','cell')\n",
    "    new_html.append(d)"
   ]
  },
  {
   "cell_type": "code",
   "execution_count": 23,
   "metadata": {},
   "outputs": [],
   "source": [
    "url = np.load('/Users/xinyutang/Documents/HPA2/crawler/autophagyV9Url.npy',allow_pickle=True)\n",
    "autophogy_gene = ['ATG10','ATG101','ATG12','ATG13','ATG14','ATG16L1',\n",
    "              'ATG2A','ATG2B','ATG3','ATG4A','ATG4B','ATG4C','ATG4D','ATG5',\n",
    "              'ATG7','ATG9A','ATG9B','BECN1','BECN2','CALCOCO2','GABARAP',\n",
    "              'GABARAPL1','GABARAPL2','GABARAPL3',\n",
    "              'MAP1LC3A','MAP1LC3B','MAP1LC3B2','MAP1LC3C',\n",
    "              'MCOLN1','NCOA4','OPTN','PIK3C3','PIK3CB','PIK3R4',\n",
    "              'RB1CC1','RUBCN','SQSTM1','TAX1BP1','TFEB','ULK1',\n",
    "              'ULK2','ULK3','WDFY3','WIPI1','WIPI2','MCOLN2','MCOLN3']\n"
   ]
  },
  {
   "cell_type": "code",
   "execution_count": 26,
   "metadata": {},
   "outputs": [],
   "source": [
    "autophagyurl=[]\n",
    "for i in url:\n",
    "    a = i.split('/')[3].split('-')[1]\n",
    "    if a in autophogy_gene:\n",
    "        autophagyurl.append(i)"
   ]
  },
  {
   "cell_type": "code",
   "execution_count": 92,
   "metadata": {},
   "outputs": [],
   "source": [
    "autophagyurl = list(dict.fromkeys(autophagyurl))\n",
    "np.save('/Users/xinyutang/Documents/HPA2/crawler/autophagyurl.npy',autophagyurl)\n"
   ]
  },
  {
   "cell_type": "code",
   "execution_count": 385,
   "metadata": {},
   "outputs": [],
   "source": [
    "autophagyurl_v9 = np.load('/Users/xinyutang/Documents/HPA2/crawler/autophagyurl.npy')\n",
    "autophagyurl_v9 = np.append(autophagyurl_v9, 'https://v19.proteinatlas.org/ENSG00000153898-MCOLN2/cell')\n",
    "autophagyurl_v9 = np.append(autophagyurl_v9, 'https://v19.proteinatlas.org/ENSG00000055732-MCOLN3/cell')"
   ]
  },
  {
   "cell_type": "code",
   "execution_count": 43,
   "metadata": {},
   "outputs": [],
   "source": [
    "autophagyurl_v9 = np.load('/Users/xinyutang/Documents/HPA2/crawler/autophagyurl.npy')"
   ]
  },
  {
   "cell_type": "code",
   "execution_count": 61,
   "metadata": {},
   "outputs": [
    {
     "name": "stdout",
     "output_type": "stream",
     "text": [
      "ENSG00000106052-TAX1BP1\n",
      "ENSG00000123240-OPTN\n",
      "ENSG00000136436-CALCOCO2\n",
      "ENSG00000161011-SQSTM1\n",
      "ENSG00000188554-NBR1\n",
      "ENSG00000266412-NCOA4\n"
     ]
    }
   ],
   "source": [
    "# Add URL\n",
    "\n",
    "new_genes = ['ENSG00000106052-TAX1BP1',\n",
    "'ENSG00000123240-OPTN',\n",
    "'ENSG00000136436-CALCOCO2',\n",
    "'ENSG00000161011-SQSTM1',\n",
    "'ENSG00000188554-NBR1',\n",
    "'ENSG00000266412-NCOA4']\n",
    "\n",
    "\n",
    "for i in new_genes:\n",
    "    first = 'https://v19.proteinatlas.org/'\n",
    "    middle =i\n",
    "    last = '/cell'\n",
    "    print(middle)\n",
    "    autophagyurl_v9 =np.append('https://v19.proteinatlas.org/ENSG00000188554-NBR1/cell',autophagyurl_v9)\n"
   ]
  },
  {
   "cell_type": "code",
   "execution_count": 62,
   "metadata": {},
   "outputs": [],
   "source": [
    "np.save('/Users/xinyutang/Documents/HPA2/crawler/autophagyurl.npy',autophagyurl_v9)"
   ]
  },
  {
   "cell_type": "code",
   "execution_count": 63,
   "metadata": {},
   "outputs": [
    {
     "data": {
      "text/plain": [
       "Index(['gene_id', 'GeneName', 'Cell_line', 'TPM', 'cellline', 'Lineage'], dtype='object')"
      ]
     },
     "execution_count": 63,
     "metadata": {},
     "output_type": "execute_result"
    }
   ],
   "source": [
    "ccle_autophogy.columns"
   ]
  },
  {
   "cell_type": "code",
   "execution_count": 70,
   "metadata": {
    "scrolled": true
   },
   "outputs": [
    {
     "name": "stdout",
     "output_type": "stream",
     "text": [
      "/Users/xinyutang/Documents/HPA2/Data/HPA-V9/ATG7.json\n",
      "/Users/xinyutang/Documents/HPA2/Data/HPA-V9/PIK3C3.json\n",
      "/Users/xinyutang/Documents/HPA2/Data/HPA-V9/TAX1BP1.json\n",
      "/Users/xinyutang/Documents/HPA2/Data/HPA-V9/MAP1LC3C.json\n",
      "/Users/xinyutang/Documents/HPA2/Data/HPA-V9/WIPI2.json\n",
      "/Users/xinyutang/Documents/HPA2/Data/HPA-V9/MCOLN3.json\n",
      "/Users/xinyutang/Documents/HPA2/Data/HPA-V9/MCOLN2.json\n",
      "/Users/xinyutang/Documents/HPA2/Data/HPA-V9/RB1CC1.json\n",
      "/Users/xinyutang/Documents/HPA2/Data/HPA-V9/ATG14.json\n",
      "/Users/xinyutang/Documents/HPA2/Data/HPA-V9/MAP1LC3B.json\n",
      "/Users/xinyutang/Documents/HPA2/Data/HPA-V9/ATG4D.json\n",
      "/Users/xinyutang/Documents/HPA2/Data/HPA-V9/NBR1.json\n",
      "/Users/xinyutang/Documents/HPA2/Data/HPA-V9/RUBCN.json\n",
      "/Users/xinyutang/Documents/HPA2/Data/HPA-V9/ATG9A.json\n",
      "/Users/xinyutang/Documents/HPA2/Data/HPA-V9/ATG2B.json\n",
      "/Users/xinyutang/Documents/HPA2/Data/HPA-V9/ATG13.json\n",
      "/Users/xinyutang/Documents/HPA2/Data/HPA-V9/WDFY3.json\n",
      "/Users/xinyutang/Documents/HPA2/Data/HPA-V9/PIK3CB.json\n",
      "/Users/xinyutang/Documents/HPA2/Data/HPA-V9/ULK3.json\n",
      "/Users/xinyutang/Documents/HPA2/Data/HPA-V9/NCOA4.json\n",
      "/Users/xinyutang/Documents/HPA2/Data/HPA-V9/ATG4C.json\n",
      "/Users/xinyutang/Documents/HPA2/Data/HPA-V9/ATG4B.json\n",
      "/Users/xinyutang/Documents/HPA2/Data/HPA-V9/ULK2.json\n",
      "/Users/xinyutang/Documents/HPA2/Data/HPA-V9/BECN2.json\n",
      "/Users/xinyutang/Documents/HPA2/Data/HPA-V9/GABARAPL2.json\n",
      "/Users/xinyutang/Documents/HPA2/Data/HPA-V9/CALCOCO2.json\n",
      "/Users/xinyutang/Documents/HPA2/Data/HPA-V9/ATG12.json\n",
      "/Users/xinyutang/Documents/HPA2/Data/HPA-V9/ATG4A.json\n",
      "/Users/xinyutang/Documents/HPA2/Data/HPA-V9/TFEB.json\n",
      "/Users/xinyutang/Documents/HPA2/Data/HPA-V9/BECN1.json\n",
      "/Users/xinyutang/Documents/HPA2/Data/HPA-V9/ULK1.json\n",
      "/Users/xinyutang/Documents/HPA2/Data/HPA-V9/GABARAPL1.json\n",
      "/Users/xinyutang/Documents/HPA2/Data/HPA-V9/ATG3.json\n",
      "/Users/xinyutang/Documents/HPA2/Data/HPA-V9/PIK3R4.json\n",
      "/Users/xinyutang/Documents/HPA2/Data/HPA-V9/MAP1LC3B2.json\n",
      "/Users/xinyutang/Documents/HPA2/Data/HPA-V9/GABARAP.json\n",
      "/Users/xinyutang/Documents/HPA2/Data/HPA-V9/ATG2A.json\n",
      "/Users/xinyutang/Documents/HPA2/Data/HPA-V9/ATG10.json\n",
      "/Users/xinyutang/Documents/HPA2/Data/HPA-V9/ATG9B.json\n",
      "/Users/xinyutang/Documents/HPA2/Data/HPA-V9/ATG5.json\n",
      "/Users/xinyutang/Documents/HPA2/Data/HPA-V9/MCOLN1.json\n",
      "/Users/xinyutang/Documents/HPA2/Data/HPA-V9/MAP1LC3A.json\n",
      "/Users/xinyutang/Documents/HPA2/Data/HPA-V9/ATG16L1.json\n",
      "/Users/xinyutang/Documents/HPA2/Data/HPA-V9/ATG101.json\n",
      "/Users/xinyutang/Documents/HPA2/Data/HPA-V9/OPTN.json\n",
      "/Users/xinyutang/Documents/HPA2/Data/HPA-V9/WIPI1.json\n",
      "/Users/xinyutang/Documents/HPA2/Data/HPA-V9/SQSTM1.json\n"
     ]
    }
   ],
   "source": [
    "path = '/Users/xinyutang/Documents/HPA2/Data/HPA-V9/'\n",
    "l=[]\n",
    "for r, d, f in os.walk(path):\n",
    "    for file in f:\n",
    "        file_path = path+file\n",
    "        print(file_path)\n",
    "        with open(file_path) as json_file:\n",
    "         \n",
    "            data = json.load(json_file)\n",
    "            gene = list(data.keys())[0]\n",
    "            \n",
    "            for i in range(len(data[gene])):\n",
    "                \n",
    "                cellline = list(data[gene].keys())[i]\n",
    "                organ = data[gene][cellline]\n",
    "                df2 = pd.DataFrame({'GeneName': [gene], 'cellline': [cellline], 'Organ':[organ]})\n",
    "                l.append(df2)\n",
    "            "
   ]
  },
  {
   "cell_type": "code",
   "execution_count": 71,
   "metadata": {},
   "outputs": [],
   "source": [
    "final_df=pd.concat(l,axis=0)"
   ]
  },
  {
   "cell_type": "code",
   "execution_count": 72,
   "metadata": {},
   "outputs": [
    {
     "data": {
      "text/plain": [
       "Index(['GeneName', 'cellline', 'Organ'], dtype='object')"
      ]
     },
     "execution_count": 72,
     "metadata": {},
     "output_type": "execute_result"
    }
   ],
   "source": [
    "final_df.columns"
   ]
  },
  {
   "cell_type": "code",
   "execution_count": 78,
   "metadata": {},
   "outputs": [],
   "source": [
    "rna_cellline=rna_cellline.rename({'Cell line':'cellline','Gene name':'GeneName'},axis=1)"
   ]
  },
  {
   "cell_type": "code",
   "execution_count": 76,
   "metadata": {},
   "outputs": [],
   "source": [
    "del rna_cellline['Gene']\n",
    "del rna_cellline['pTPM']\n",
    "del rna_cellline['NX']"
   ]
  },
  {
   "cell_type": "code",
   "execution_count": 81,
   "metadata": {},
   "outputs": [
    {
     "data": {
      "text/plain": [
       "(3008, 3)"
      ]
     },
     "execution_count": 81,
     "metadata": {},
     "output_type": "execute_result"
    }
   ],
   "source": [
    "final_df.shape"
   ]
  },
  {
   "cell_type": "code",
   "execution_count": 83,
   "metadata": {},
   "outputs": [],
   "source": [
    "cellline_hpa_autophagy = pd.merge(final_df,rna_cellline,on=['GeneName','cellline'],how='left')"
   ]
  },
  {
   "cell_type": "code",
   "execution_count": 85,
   "metadata": {},
   "outputs": [],
   "source": [
    "    cellline_hpa_autophagy.GeneName=cellline_hpa_autophagy.GeneName.apply(lambda x: 'SQSTM1(p62)' if x=='SQSTM1' else\\\n",
    "                                                                   'CALCOCO2 (NDP52)' if x =='CALCOCO2'else x)\n"
   ]
  },
  {
   "cell_type": "code",
   "execution_count": 40,
   "metadata": {},
   "outputs": [],
   "source": [
    "cellline_hpa_autophagy=pd.read_csv('/Users/xinyutang/Documents/HPA2/Data/CCLE/cellline_hpa_autophagy.csv')"
   ]
  },
  {
   "cell_type": "code",
   "execution_count": 50,
   "metadata": {},
   "outputs": [],
   "source": [
    "ccle_autophogy['cellline']=ccle_autophogy['Cell_line'].apply(lambda x:x.split('_')[0])"
   ]
  },
  {
   "cell_type": "code",
   "execution_count": 51,
   "metadata": {},
   "outputs": [
    {
     "data": {
      "text/html": [
       "<div>\n",
       "<style scoped>\n",
       "    .dataframe tbody tr th:only-of-type {\n",
       "        vertical-align: middle;\n",
       "    }\n",
       "\n",
       "    .dataframe tbody tr th {\n",
       "        vertical-align: top;\n",
       "    }\n",
       "\n",
       "    .dataframe thead th {\n",
       "        text-align: right;\n",
       "    }\n",
       "</style>\n",
       "<table border=\"1\" class=\"dataframe\">\n",
       "  <thead>\n",
       "    <tr style=\"text-align: right;\">\n",
       "      <th></th>\n",
       "      <th>gene_id</th>\n",
       "      <th>GeneName</th>\n",
       "      <th>Cell_line</th>\n",
       "      <th>TPM</th>\n",
       "      <th>Name</th>\n",
       "      <th>Site_Primary</th>\n",
       "      <th>cellline</th>\n",
       "    </tr>\n",
       "  </thead>\n",
       "  <tbody>\n",
       "    <tr>\n",
       "      <th>0</th>\n",
       "      <td>ENSG00000023287</td>\n",
       "      <td>B1CC1(FIP200)</td>\n",
       "      <td>2313287_STOMACH</td>\n",
       "      <td>12.53</td>\n",
       "      <td>23132/87</td>\n",
       "      <td>STOMACH</td>\n",
       "      <td>2313287</td>\n",
       "    </tr>\n",
       "    <tr>\n",
       "      <th>1</th>\n",
       "      <td>ENSG00000034713</td>\n",
       "      <td>GABARAPL2</td>\n",
       "      <td>2313287_STOMACH</td>\n",
       "      <td>75.67</td>\n",
       "      <td>23132/87</td>\n",
       "      <td>STOMACH</td>\n",
       "      <td>2313287</td>\n",
       "    </tr>\n",
       "    <tr>\n",
       "      <th>2</th>\n",
       "      <td>ENSG00000051382</td>\n",
       "      <td>PIK3CB</td>\n",
       "      <td>2313287_STOMACH</td>\n",
       "      <td>41.99</td>\n",
       "      <td>23132/87</td>\n",
       "      <td>STOMACH</td>\n",
       "      <td>2313287</td>\n",
       "    </tr>\n",
       "    <tr>\n",
       "      <th>3</th>\n",
       "      <td>ENSG00000055732</td>\n",
       "      <td>MCOLN1(TRPML3)</td>\n",
       "      <td>2313287_STOMACH</td>\n",
       "      <td>0.01</td>\n",
       "      <td>23132/87</td>\n",
       "      <td>STOMACH</td>\n",
       "      <td>2313287</td>\n",
       "    </tr>\n",
       "    <tr>\n",
       "      <th>4</th>\n",
       "      <td>ENSG00000057663</td>\n",
       "      <td>ATG5</td>\n",
       "      <td>2313287_STOMACH</td>\n",
       "      <td>32.39</td>\n",
       "      <td>23132/87</td>\n",
       "      <td>STOMACH</td>\n",
       "      <td>2313287</td>\n",
       "    </tr>\n",
       "    <tr>\n",
       "      <th>...</th>\n",
       "      <td>...</td>\n",
       "      <td>...</td>\n",
       "      <td>...</td>\n",
       "      <td>...</td>\n",
       "      <td>...</td>\n",
       "      <td>...</td>\n",
       "      <td>...</td>\n",
       "    </tr>\n",
       "    <tr>\n",
       "      <th>46777</th>\n",
       "      <td>ENSG00000196455</td>\n",
       "      <td>PIK3R4</td>\n",
       "      <td>ZR751_BREAST</td>\n",
       "      <td>11.03</td>\n",
       "      <td>ZR-75-1</td>\n",
       "      <td>BREAST</td>\n",
       "      <td>ZR751</td>\n",
       "    </tr>\n",
       "    <tr>\n",
       "      <th>46778</th>\n",
       "      <td>ENSG00000197548</td>\n",
       "      <td>ATG7</td>\n",
       "      <td>ZR751_BREAST</td>\n",
       "      <td>16.95</td>\n",
       "      <td>ZR-75-1</td>\n",
       "      <td>BREAST</td>\n",
       "      <td>ZR751</td>\n",
       "    </tr>\n",
       "    <tr>\n",
       "      <th>46779</th>\n",
       "      <td>ENSG00000197769</td>\n",
       "      <td>MAP1LC3C</td>\n",
       "      <td>ZR751_BREAST</td>\n",
       "      <td>0.00</td>\n",
       "      <td>ZR-75-1</td>\n",
       "      <td>BREAST</td>\n",
       "      <td>ZR751</td>\n",
       "    </tr>\n",
       "    <tr>\n",
       "      <th>46780</th>\n",
       "      <td>ENSG00000198925</td>\n",
       "      <td>ATG9A</td>\n",
       "      <td>ZR751_BREAST</td>\n",
       "      <td>18.03</td>\n",
       "      <td>ZR-75-1</td>\n",
       "      <td>BREAST</td>\n",
       "      <td>ZR751</td>\n",
       "    </tr>\n",
       "    <tr>\n",
       "      <th>46781</th>\n",
       "      <td>ENSG00000258102</td>\n",
       "      <td>MAP1LC3B2</td>\n",
       "      <td>ZR751_BREAST</td>\n",
       "      <td>0.00</td>\n",
       "      <td>ZR-75-1</td>\n",
       "      <td>BREAST</td>\n",
       "      <td>ZR751</td>\n",
       "    </tr>\n",
       "  </tbody>\n",
       "</table>\n",
       "<p>46782 rows × 7 columns</p>\n",
       "</div>"
      ],
      "text/plain": [
       "               gene_id        GeneName        Cell_line    TPM      Name  \\\n",
       "0      ENSG00000023287   B1CC1(FIP200)  2313287_STOMACH  12.53  23132/87   \n",
       "1      ENSG00000034713       GABARAPL2  2313287_STOMACH  75.67  23132/87   \n",
       "2      ENSG00000051382          PIK3CB  2313287_STOMACH  41.99  23132/87   \n",
       "3      ENSG00000055732  MCOLN1(TRPML3)  2313287_STOMACH   0.01  23132/87   \n",
       "4      ENSG00000057663            ATG5  2313287_STOMACH  32.39  23132/87   \n",
       "...                ...             ...              ...    ...       ...   \n",
       "46777  ENSG00000196455          PIK3R4     ZR751_BREAST  11.03   ZR-75-1   \n",
       "46778  ENSG00000197548            ATG7     ZR751_BREAST  16.95   ZR-75-1   \n",
       "46779  ENSG00000197769        MAP1LC3C     ZR751_BREAST   0.00   ZR-75-1   \n",
       "46780  ENSG00000198925           ATG9A     ZR751_BREAST  18.03   ZR-75-1   \n",
       "46781  ENSG00000258102       MAP1LC3B2     ZR751_BREAST   0.00   ZR-75-1   \n",
       "\n",
       "      Site_Primary cellline  \n",
       "0          STOMACH  2313287  \n",
       "1          STOMACH  2313287  \n",
       "2          STOMACH  2313287  \n",
       "3          STOMACH  2313287  \n",
       "4          STOMACH  2313287  \n",
       "...            ...      ...  \n",
       "46777       BREAST    ZR751  \n",
       "46778       BREAST    ZR751  \n",
       "46779       BREAST    ZR751  \n",
       "46780       BREAST    ZR751  \n",
       "46781       BREAST    ZR751  \n",
       "\n",
       "[46782 rows x 7 columns]"
      ]
     },
     "execution_count": 51,
     "metadata": {},
     "output_type": "execute_result"
    }
   ],
   "source": [
    "ccle_autophogy"
   ]
  },
  {
   "cell_type": "code",
   "execution_count": null,
   "metadata": {},
   "outputs": [],
   "source": []
  }
 ],
 "metadata": {
  "kernelspec": {
   "display_name": "Python 3",
   "language": "python",
   "name": "python3"
  },
  "language_info": {
   "codemirror_mode": {
    "name": "ipython",
    "version": 3
   },
   "file_extension": ".py",
   "mimetype": "text/x-python",
   "name": "python",
   "nbconvert_exporter": "python",
   "pygments_lexer": "ipython3",
   "version": "3.8.1"
  },
  "toc": {
   "base_numbering": 1,
   "nav_menu": {},
   "number_sections": true,
   "sideBar": true,
   "skip_h1_title": false,
   "title_cell": "Table of Contents",
   "title_sidebar": "Contents",
   "toc_cell": false,
   "toc_position": {},
   "toc_section_display": true,
   "toc_window_display": false
  },
  "varInspector": {
   "cols": {
    "lenName": 16,
    "lenType": 16,
    "lenVar": 40
   },
   "kernels_config": {
    "python": {
     "delete_cmd_postfix": "",
     "delete_cmd_prefix": "del ",
     "library": "var_list.py",
     "varRefreshCmd": "print(var_dic_list())"
    },
    "r": {
     "delete_cmd_postfix": ") ",
     "delete_cmd_prefix": "rm(",
     "library": "var_list.r",
     "varRefreshCmd": "cat(var_dic_list()) "
    }
   },
   "types_to_exclude": [
    "module",
    "function",
    "builtin_function_or_method",
    "instance",
    "_Feature"
   ],
   "window_display": false
  }
 },
 "nbformat": 4,
 "nbformat_minor": 4
}
